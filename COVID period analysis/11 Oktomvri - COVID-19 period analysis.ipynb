{
 "cells": [
  {
   "cell_type": "code",
   "execution_count": null,
   "id": "3367aa9b",
   "metadata": {},
   "outputs": [],
   "source": [
    "# data manipulation\n",
    "import pandas as pd\n",
    "\n",
    "# visualization\n",
    "import seaborn as sns\n",
    "import matplotlib.pyplot as plt\n",
    "\n",
    "# math\n",
    "import numpy as np"
   ]
  },
  {
   "cell_type": "code",
   "execution_count": null,
   "id": "59c2fdd9",
   "metadata": {},
   "outputs": [],
   "source": [
    "folder_path = 'data'\n",
    "\n",
    "_11_oktomvri = '11_oktomvri.csv'"
   ]
  },
  {
   "cell_type": "code",
   "execution_count": null,
   "id": "851085cd",
   "metadata": {},
   "outputs": [],
   "source": [
    "def read_csv_file_by_location(location):\n",
    "    return pd.read_csv(f'{folder_path}/{location}', parse_dates=['date_time'], index_col='date_time')"
   ]
  },
  {
   "cell_type": "code",
   "execution_count": null,
   "id": "133afd96",
   "metadata": {},
   "outputs": [],
   "source": [
    "def get_period_values(dataset, from_date, to_date, feature=None):\n",
    "    if feature is None:\n",
    "        return dataset[from_date:to_date]\n",
    "    return dataset[from_date:to_date][feature]"
   ]
  },
  {
   "cell_type": "code",
   "execution_count": null,
   "id": "dfed3192",
   "metadata": {},
   "outputs": [],
   "source": [
    "def plot_line_figures(df_data):\n",
    "    plt.figure(figsize=(15,8))\n",
    "    for elem in df_data:\n",
    "        sns.lineplot(data=elem)"
   ]
  },
  {
   "cell_type": "markdown",
   "id": "69ec6ba5",
   "metadata": {},
   "source": [
    "## 11 Oktomvri"
   ]
  },
  {
   "cell_type": "code",
   "execution_count": null,
   "id": "035eae54",
   "metadata": {},
   "outputs": [],
   "source": [
    "df_11_oktomvri = read_csv_file_by_location(_11_oktomvri)"
   ]
  },
  {
   "cell_type": "code",
   "execution_count": null,
   "id": "22b10f4d",
   "metadata": {},
   "outputs": [],
   "source": [
    "df_pre_covid_pm10 = get_period_values(df_11_oktomvri, \"2020-01-01 00:00:00\", \"2020-03-01 00:00:00\", \"pm10\")\n",
    "df_covid_period_pm10 = get_period_values(df_11_oktomvri, \"2020-03-10 00:00:00\", \"2020-05-20 00:00:00\", \"pm10\")\n",
    "df_post_covid_period_pm10 = get_period_values(df_11_oktomvri, \"2020-05-20 00:00:00\", \"2020-08-20 00:00:00\", \"pm10\")\n",
    "\n",
    "df_covid_period_pm10_last_year = get_period_values(df_11_oktomvri, \"2019-03-10 00:00:00\", \"2019-05-20 00:00:00\", \"pm10\")"
   ]
  },
  {
   "cell_type": "code",
   "execution_count": null,
   "id": "da1e33e2",
   "metadata": {},
   "outputs": [],
   "source": [
    "df_pre_covid_noise = get_period_values(df_11_oktomvri, \"2020-01-01 00:00:00\", \"2020-03-01 00:00:00\", \"noise\")\n",
    "df_covid_period_noise = get_period_values(df_11_oktomvri, \"2020-03-10 00:00:00\", \"2020-05-20 00:00:00\", \"noise\")\n",
    "df_post_covid_period_noise = get_period_values(df_11_oktomvri, \"2020-05-20 00:00:00\", \"2020-08-20 00:00:00\", \"noise\")\n",
    "\n",
    "df_covid_period_noise_last_year = get_period_values(df_11_oktomvri, \"2019-03-10 00:00:00\", \"2019-05-20 00:00:00\", \"noise\")"
   ]
  },
  {
   "cell_type": "markdown",
   "id": "a24a8911",
   "metadata": {},
   "source": [
    "### Pre-Covid period"
   ]
  },
  {
   "cell_type": "code",
   "execution_count": null,
   "id": "26985b5d",
   "metadata": {},
   "outputs": [],
   "source": [
    "# precovid\n",
    "plot_line_figures([df_pre_covid_pm10])"
   ]
  },
  {
   "cell_type": "code",
   "execution_count": null,
   "id": "a158ae89",
   "metadata": {},
   "outputs": [],
   "source": [
    "# precovid\n",
    "plot_line_figures([df_pre_covid_noise])"
   ]
  },
  {
   "cell_type": "code",
   "execution_count": null,
   "id": "0dc738f2",
   "metadata": {},
   "outputs": [],
   "source": [
    "# precovid\n",
    "plot_line_figures([df_pre_covid_pm10, df_pre_covid_noise])"
   ]
  },
  {
   "cell_type": "markdown",
   "id": "ee010a5e",
   "metadata": {},
   "source": [
    "### Covid period"
   ]
  },
  {
   "cell_type": "code",
   "execution_count": null,
   "id": "73bdc344",
   "metadata": {},
   "outputs": [],
   "source": [
    "# covid\n",
    "plot_line_figures([df_covid_period_pm10])"
   ]
  },
  {
   "cell_type": "code",
   "execution_count": null,
   "id": "642e9a14",
   "metadata": {},
   "outputs": [],
   "source": [
    "# covid\n",
    "plot_line_figures([df_covid_period_noise])"
   ]
  },
  {
   "cell_type": "code",
   "execution_count": null,
   "id": "5a18be55",
   "metadata": {},
   "outputs": [],
   "source": [
    "# covid\n",
    "plot_line_figures([df_covid_period_pm10, df_covid_period_noise])"
   ]
  },
  {
   "cell_type": "markdown",
   "id": "8b537c49",
   "metadata": {},
   "source": [
    "### Post-Covid period"
   ]
  },
  {
   "cell_type": "code",
   "execution_count": null,
   "id": "86d77178",
   "metadata": {},
   "outputs": [],
   "source": [
    "# postcovid\n",
    "plot_line_figures([df_post_covid_period_pm10])"
   ]
  },
  {
   "cell_type": "code",
   "execution_count": null,
   "id": "717c126c",
   "metadata": {},
   "outputs": [],
   "source": [
    "# postcovid\n",
    "plot_line_figures([df_post_covid_period_noise])"
   ]
  },
  {
   "cell_type": "code",
   "execution_count": null,
   "id": "f673f537",
   "metadata": {},
   "outputs": [],
   "source": [
    "# postcovid\n",
    "plot_line_figures([df_post_covid_period_pm10, df_post_covid_period_noise])"
   ]
  },
  {
   "cell_type": "markdown",
   "id": "ecc3bd69",
   "metadata": {},
   "source": [
    "### Last year quarantine period"
   ]
  },
  {
   "cell_type": "code",
   "execution_count": null,
   "id": "32c3a85b",
   "metadata": {},
   "outputs": [],
   "source": [
    "# last year\n",
    "plot_line_figures([df_covid_period_pm10_last_year])"
   ]
  },
  {
   "cell_type": "code",
   "execution_count": null,
   "id": "fa92cac6",
   "metadata": {},
   "outputs": [],
   "source": [
    "# last year\n",
    "plot_line_figures([df_covid_period_noise_last_year])"
   ]
  },
  {
   "cell_type": "code",
   "execution_count": null,
   "id": "8c27aadb",
   "metadata": {},
   "outputs": [],
   "source": [
    "# last year\n",
    "plot_line_figures([df_covid_period_pm10_last_year, df_covid_period_noise_last_year])"
   ]
  },
  {
   "cell_type": "markdown",
   "id": "38323ce1",
   "metadata": {},
   "source": [
    "### Correlation and mean"
   ]
  },
  {
   "cell_type": "code",
   "execution_count": null,
   "id": "8ee1110f",
   "metadata": {},
   "outputs": [],
   "source": [
    "pm10_np = df_11_oktomvri['pm10'].to_numpy()\n",
    "noise_np = df_11_oktomvri['noise'].to_numpy()"
   ]
  },
  {
   "cell_type": "code",
   "execution_count": null,
   "id": "dcd82f8b",
   "metadata": {},
   "outputs": [],
   "source": [
    "pearsons_coefficient = np.corrcoef(pm10_np, noise_np)\n",
    "pearsons_coefficient"
   ]
  },
  {
   "cell_type": "code",
   "execution_count": null,
   "id": "f34fd4c3",
   "metadata": {},
   "outputs": [],
   "source": [
    "{\"pre_covid_pm10\": df_pre_covid_pm10.mean(),\n",
    " \"covid_period_pm10\": df_covid_period_pm10.mean(),\n",
    " \"last_year_quarantine_period\": df_covid_period_pm10_last_year.mean(),\n",
    " \"post_covid_pm10\": df_post_covid_period_pm10.mean()}"
   ]
  },
  {
   "cell_type": "code",
   "execution_count": null,
   "id": "b5ccb905",
   "metadata": {},
   "outputs": [],
   "source": []
  }
 ],
 "metadata": {
  "kernelspec": {
   "display_name": "Python 3 (ipykernel)",
   "language": "python",
   "name": "python3"
  },
  "language_info": {
   "codemirror_mode": {
    "name": "ipython",
    "version": 3
   },
   "file_extension": ".py",
   "mimetype": "text/x-python",
   "name": "python",
   "nbconvert_exporter": "python",
   "pygments_lexer": "ipython3",
   "version": "3.9.7"
  }
 },
 "nbformat": 4,
 "nbformat_minor": 5
}
